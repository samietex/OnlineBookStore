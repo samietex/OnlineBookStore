{
    "cells": [
        {
            "attachments": {},
            "cell_type": "markdown",
            "metadata": {
                "azdata_cell_guid": "c61f54b2-dd18-481c-9b91-337b30d8eb3d"
            },
            "source": [
                "## Online Bookstore Database Solution Notebook\n",
                "\n",
                "### Introduction\n",
                "Welcome to the Online Bookstore Database Solution Notebook! In this notebook I'll be exploring the design, implementation, and querying our online database using SQL Server. \n",
                "\n",
                "### Prerequisites\n",
                "In case you want to replicate this project, ensure that you have the following:\n",
                "\n",
                "**1. SQL Server Management Studio (SSMS):**\n",
                "\n",
                "* Download and install SSMS from Microsoft.\n",
                "\n",
                "**2. Sample Data:**\n",
                "\n",
                "* I will be using sample data for books, authors, customers, and orders. You can create your own or use the provided sample data files.\n",
                "\n",
                "### Notebook Sections\n",
                "\n",
                "**1. Database Schema and Constraints:**\n",
                "\n",
                "* We will define the tables, primary keys, foreign keys, and other constraints.\n",
                "* Create the necessary database objects using SQL scripts.\n",
                "\n",
                "**2. Sample Data Insertion:**\n",
                "\n",
                "* Populate the tables with sample data.\n",
                "* Execute SQL `INSERT INTO` statements to add records.\n",
                "\n",
                "**3. SQL Queries and Tasks:**\n",
                "\n",
                "* Perform various tasks using SQL queries:\n",
                "    * Update book prices.\n",
                "    * Retrieve books published in a specific year.\n",
                "    * Retrieve orders made by a particular customer.\n",
                "    * Calculate total amount spent by each customer.\n",
                "    * Find the highest-rated book.\n",
                "    * Retrieve authors who have written books in a specific genre.\n",
                "    * Identify customers who have given the most reviews.\n",
                "    * Calculate average rating of books by each author.\n",
                "    * Compare book prices with genre averages.\n",
                "    * Explore additional queries based on your interests.\n",
                "\n",
                "### Let's Get Started!\n",
                "\n",
                "_Note: This notebook assumes familiarity with SQL concepts. If you're new to SQL, consider exploring introductory SQL tutorials before exploring into this notebook._\n",
                "\n",
                "_Disclaimer: The provided notebook is a high-level overview. For detailed implementation, refer to the actual SQL scripts and database setup._"
            ]
        },
        {
            "cell_type": "code",
            "execution_count": 1,
            "metadata": {
                "azdata_cell_guid": "301c5ead-b265-4c7c-8f07-dbed4299671a",
                "language": "sql"
            },
            "outputs": [
                {
                    "data": {
                        "text/html": [
                            "Commands completed successfully."
                        ]
                    },
                    "metadata": {},
                    "output_type": "display_data"
                },
                {
                    "data": {
                        "text/html": [
                            "Total execution time: 00:00:00.183"
                        ]
                    },
                    "metadata": {},
                    "output_type": "display_data"
                }
            ],
            "source": [
                "-- Create Database\n",
                "CREATE DATABASE AllAboutDataBookStore;"
            ]
        },
        {
            "cell_type": "code",
            "execution_count": 2,
            "metadata": {
                "azdata_cell_guid": "f82019e7-f241-4b31-b146-c7994e47bb77",
                "language": "sql"
            },
            "outputs": [
                {
                    "data": {
                        "text/html": [
                            "Commands completed successfully."
                        ]
                    },
                    "metadata": {},
                    "output_type": "display_data"
                },
                {
                    "data": {
                        "text/html": [
                            "Total execution time: 00:00:00.002"
                        ]
                    },
                    "metadata": {},
                    "output_type": "display_data"
                }
            ],
            "source": [
                "-- Use Database\n",
                "USE AllAboutDataBookStore;"
            ]
        },
        {
            "cell_type": "code",
            "execution_count": 3,
            "metadata": {
                "azdata_cell_guid": "4084ee4d-2c9c-4682-b36c-e8808e8481eb",
                "language": "sql"
            },
            "outputs": [
                {
                    "data": {
                        "text/html": [
                            "Commands completed successfully."
                        ]
                    },
                    "metadata": {},
                    "output_type": "display_data"
                },
                {
                    "data": {
                        "text/html": [
                            "Total execution time: 00:00:00.019"
                        ]
                    },
                    "metadata": {},
                    "output_type": "display_data"
                }
            ],
            "source": [
                "-- Create Authors table\n",
                "CREATE TABLE Authors (\n",
                "    AuthorID INT PRIMARY KEY,\n",
                "    Name NVARCHAR(100) NOT NULL,\n",
                "    Biography NVARCHAR(MAX)\n",
                ");\n"
            ]
        },
        {
            "cell_type": "code",
            "execution_count": 4,
            "metadata": {
                "azdata_cell_guid": "b01da3e5-cdf8-4a15-a75b-b881f5ffc982",
                "language": "sql"
            },
            "outputs": [
                {
                    "data": {
                        "text/html": [
                            "Commands completed successfully."
                        ]
                    },
                    "metadata": {},
                    "output_type": "display_data"
                },
                {
                    "data": {
                        "text/html": [
                            "Total execution time: 00:00:00.020"
                        ]
                    },
                    "metadata": {},
                    "output_type": "display_data"
                }
            ],
            "source": [
                "-- Create Books table\n",
                "CREATE TABLE Books (\n",
                "    ISBN VARCHAR(20) PRIMARY KEY,\n",
                "    Title NVARCHAR(100) NOT NULL,\n",
                "    PublicationYear INT NOT NULL,\n",
                "    Price DECIMAL(10, 2) NOT NULL,\n",
                "    Genre NVARCHAR(50) NOT NULL,\n",
                "    AuthorID INT,\n",
                "    CONSTRAINT FK_AuthorID FOREIGN KEY (AuthorID) REFERENCES Authors(AuthorID)\n",
                ");\n"
            ]
        },
        {
            "cell_type": "code",
            "execution_count": 5,
            "metadata": {
                "azdata_cell_guid": "6ad4b694-10f3-439d-9f3a-65ad278d0a59",
                "language": "sql"
            },
            "outputs": [
                {
                    "data": {
                        "text/html": [
                            "Commands completed successfully."
                        ]
                    },
                    "metadata": {},
                    "output_type": "display_data"
                },
                {
                    "data": {
                        "text/html": [
                            "Total execution time: 00:00:00.006"
                        ]
                    },
                    "metadata": {},
                    "output_type": "display_data"
                }
            ],
            "source": [
                "-- Create Customers table\n",
                "CREATE TABLE Customers (\n",
                "    CustomerID INT PRIMARY KEY,\n",
                "    Name NVARCHAR(100) NOT NULL,\n",
                "    Email NVARCHAR(100) NOT NULL,\n",
                "    Address NVARCHAR(MAX) NOT NULL\n",
                ");\n"
            ]
        },
        {
            "cell_type": "code",
            "execution_count": 6,
            "metadata": {
                "azdata_cell_guid": "347d4295-38f1-40ec-ab1c-18d06545ba5d",
                "language": "sql"
            },
            "outputs": [
                {
                    "data": {
                        "text/html": [
                            "Commands completed successfully."
                        ]
                    },
                    "metadata": {},
                    "output_type": "display_data"
                },
                {
                    "data": {
                        "text/html": [
                            "Total execution time: 00:00:00.010"
                        ]
                    },
                    "metadata": {},
                    "output_type": "display_data"
                }
            ],
            "source": [
                "-- Create Orders table\n",
                "CREATE TABLE Orders (\n",
                "    OrderID INT PRIMARY KEY,\n",
                "    CustomerID INT,\n",
                "    OrderDate DATETIME NOT NULL,\n",
                "    TotalPrice DECIMAL(10, 2) NOT NULL,\n",
                "    CONSTRAINT FK_CustomerID FOREIGN KEY (CustomerID) REFERENCES Customers(CustomerID)\n",
                ");\n"
            ]
        },
        {
            "cell_type": "code",
            "execution_count": 7,
            "metadata": {
                "azdata_cell_guid": "7165f67f-30b5-4979-bec8-5da4b6d08771",
                "language": "sql"
            },
            "outputs": [
                {
                    "data": {
                        "text/html": [
                            "Commands completed successfully."
                        ]
                    },
                    "metadata": {},
                    "output_type": "display_data"
                },
                {
                    "data": {
                        "text/html": [
                            "Total execution time: 00:00:00.006"
                        ]
                    },
                    "metadata": {},
                    "output_type": "display_data"
                }
            ],
            "source": [
                "-- Create Reviews table\n",
                "CREATE TABLE Reviews (\n",
                "    ReviewID INT PRIMARY KEY,\n",
                "    CustomerID INT,\n",
                "    ISBN VARCHAR(20),\n",
                "    Rating INT CHECK (Rating >= 1 AND Rating <= 5),\n",
                "    Comments NVARCHAR(MAX),\n",
                "    CONSTRAINT FK_CustomerID_Reviews FOREIGN KEY (CustomerID) REFERENCES Customers(CustomerID),\n",
                "    CONSTRAINT FK_ISBN FOREIGN KEY (ISBN) REFERENCES Books(ISBN)\n",
                ");"
            ]
        },
        {
            "cell_type": "code",
            "execution_count": 6,
            "metadata": {
                "azdata_cell_guid": "1fcceef0-2a63-4f2a-8e94-93718ca783b2",
                "language": "sql"
            },
            "outputs": [
                {
                    "ename": "",
                    "evalue": "Msg 2627, Level 14, State 1, Line 2\r\nViolation of PRIMARY KEY constraint 'PK__Authors__70DAFC14D56DA8BF'. Cannot insert duplicate key in object 'dbo.Authors'. The duplicate key value is (1).",
                    "output_type": "error",
                    "traceback": []
                },
                {
                    "data": {
                        "text/html": [
                            "The statement has been terminated."
                        ]
                    },
                    "metadata": {},
                    "output_type": "display_data"
                },
                {
                    "data": {
                        "text/html": [
                            "Total execution time: 00:00:00.033"
                        ]
                    },
                    "metadata": {},
                    "output_type": "display_data"
                }
            ],
            "source": [
                "-- Insert sample data into Authors table\n",
                "INSERT INTO Authors (AuthorID, Name, Biography) VALUES\n",
                "(1, 'J.K. Rowling', 'British author known for the Harry Potter series'),\n",
                "(2, 'George R.R. Martin', 'American novelist famous for A Song of Ice and Fire'),\n",
                "(3, 'Agatha Christie', 'British mystery writer known for her detective novels'),\n",
                "(4, 'Stephen King', 'American author of horror, supernatural fiction, and suspense novels'),\n",
                "(5, 'Jane Austen', 'English novelist known for her romantic fiction'),\n",
                "(6, 'Gabriel García Márquez', 'Colombian novelist and Nobel laureate in literature'),\n",
                "(7, 'Haruki Murakami', 'Japanese author of surreal and philosophical fiction'),\n",
                "(8, 'Margaret Atwood', 'Canadian author known for dystopian fiction'),\n",
                "(9, 'Toni Morrison', 'American novelist and Nobel laureate in literature'),\n",
                "(10, 'Kazuo Ishiguro', 'British-Japanese author of literary fiction'),\n",
                "(11, 'Chimamanda Ngozi Adichie', 'Nigerian writer and feminist'),\n",
                "(12, 'Neil Gaiman', 'English author of fantasy and graphic novels'),\n",
                "(13, 'Octavia Butler', 'American science fiction writer known for her groundbreaking works'),\n",
                "(14, 'Isaac Asimov', 'Russian-American author and biochemist, a prolific writer of science fiction'),\n",
                "(15, 'Zadie Smith', 'British novelist and essayist with a unique literary voice'),\n",
                "(16, 'Philip K. Dick', 'American writer of mind-bending science fiction and dystopian tales'),\n",
                "(17, 'Jorge Luis Borges', 'Argentine writer, poet, and master of magical realism'),\n",
                "(18, 'Terry Pratchett', 'English author known for humorous fantasy novels'),\n",
                "(19, 'Ursula K. Le Guin', 'American writer of science fiction and fantasy'),\n",
                "(20, 'J.R.R. Tolkien', 'British author, philologist, and creator of Middle-earth'),\n",
                "(21, 'Ray Bradbury', 'American author of dystopian and speculative fiction'),\n",
                "(22, 'Roald Dahl', 'British novelist and children''s book writer'),\n",
                "(23, 'Harper Lee', 'American author known for \"To Kill a Mockingbird\"'),\n",
                "(24, 'Ernest Hemingway', 'American novelist and Nobel laureate in literature'),\n",
                "(25, 'Virginia Woolf', 'English writer and modernist'),\n",
                "(26, 'F. Scott Fitzgerald', 'American novelist famous for \"The Great Gatsby\"'),\n",
                "(27, 'Leo Tolstoy', 'Russian writer and philosopher'),\n",
                "(28, 'Maya Angelou', 'American poet, memoirist, and civil rights activist'),\n",
                "(29, 'Khaled Hosseini', 'Afghan-American novelist known for \"The Kite Runner\"'),\n",
                "(30, 'Jhumpa Lahiri', 'Indian-American author of poignant short stories and novels'),\n",
                "(31, 'Salman Rushdie', 'British-Indian novelist and magical realist'),\n",
                "(32, 'Hermann Hesse', 'German-Swiss author of philosophical and spiritual works'),\n",
                "(33, 'Emily Dickinson', 'American poet known for her enigmatic and introspective verses'),\n",
                "(34, 'Mark Twain', 'American writer and humorist famous for \"The Adventures of Huckleberry Finn\"'),\n",
                "(35, 'Edgar Allan Poe', 'American writer of dark and macabre tales'),\n",
                "(36, 'Gabriel García Márquez', 'Colombian novelist and Nobel laureate in literature'),\n",
                "(37, 'Louisa May Alcott', 'American author of \"Little Women\" and other beloved novels'),\n",
                "(38, 'Octavio Paz', 'Mexican poet and essayist, Nobel laureate in literature'),\n",
                "(39, 'Doris Lessing', 'British-Zimbabwean novelist and short story writer'),\n",
                "(40, 'Italo Calvino', 'Italian writer known for his imaginative fiction'),\n",
                "(41, 'Alice Walker', 'American novelist, poet, and activist'),\n",
                "(42, 'Kurt Vonnegut', 'American author of satirical and science fiction novels'),\n",
                "(43, 'Terry Eagleton', 'British literary theorist and critic'),\n",
                "(44, 'Octavia E. Butler', 'American science fiction writer and MacArthur Fellow'),\n",
                "(45, 'Kurt Vonnegut', 'American author of satirical and science fiction novels'),\n",
                "(46, 'Zora Neale Hurston', 'American author and anthropologist'),\n",
                "(47, 'Albert Camus', 'French philosopher and author of existentialist works'),\n",
                "(48, 'Toni Morrison', 'American novelist and Nobel laureate in literature'),\n",
                "(49, 'John Steinbeck', 'American author known for \"The Grapes of Wrath\"'),\n",
                "(50, 'Virginia Woolf', 'English writer and modernist');"
            ]
        },
        {
            "cell_type": "code",
            "execution_count": 7,
            "metadata": {
                "azdata_cell_guid": "2b374e4c-4a80-4f71-af85-1fc1f0655f4e",
                "language": "sql"
            },
            "outputs": [
                {
                    "ename": "",
                    "evalue": "Msg 2627, Level 14, State 1, Line 2\r\nViolation of PRIMARY KEY constraint 'PK__Books__447D36EB960F2F68'. Cannot insert duplicate key in object 'dbo.Books'. The duplicate key value is (9780439554930).",
                    "output_type": "error",
                    "traceback": []
                },
                {
                    "data": {
                        "text/html": [
                            "The statement has been terminated."
                        ]
                    },
                    "metadata": {},
                    "output_type": "display_data"
                },
                {
                    "data": {
                        "text/html": [
                            "Total execution time: 00:00:00.055"
                        ]
                    },
                    "metadata": {},
                    "output_type": "display_data"
                }
            ],
            "source": [
                "-- Insert sample data into Books table\n",
                "INSERT INTO Books (ISBN, Title, PublicationYear, Price, Genre, AuthorID) VALUES\n",
                "('9780439554930', 'Harry Potter and the Sorcerer''s Stone', 1997, 20.00, 'Fantasy', 1),\n",
                "('9780553801477', 'A Game of Thrones', 1996, 25.00, 'Fantasy', 2),\n",
                "('9780061120084', 'Murder on the Orient Express', 1934, 15.00, 'Mystery', 3),\n",
                "('9780451167317', 'The Shining', 1977, 18.00, 'Horror', 4),\n",
                "('9780141439563', 'Pride and Prejudice', 1813, 12.00, 'Romance', 5),\n",
                "('9780307474278', 'One Hundred Years of Solitude', 1967, 22.00, 'Magical Realism', 6),\n",
                "('9780099448792', 'Norwegian Wood', 1987, 16.00, 'Literary Fiction', 7),\n",
                "('9780385504201', 'The Handmaid''s Tale', 1985, 21.00, 'Dystopian', 8),\n",
                "('9781400032716', 'Beloved', 1987, 19.00, 'Literary Fiction', 9),\n",
                "('9780571225395', 'Never Let Me Go', 2005, 17.00, 'Literary Fiction', 10),\n",
                "('9780007121776', 'Half of a Yellow Sun', 2006, 14.00, 'Historical Fiction', 11),\n",
                "('9780062255655', 'American Gods', 2001, 20.00, 'Fantasy', 12),\n",
                "('9780446675536', 'Kindred', 1979, 16.00, 'Science Fiction', 13),\n",
                "('9780553293357', 'Foundation', 1951, 14.00, 'Science Fiction', 14),\n",
                "('9780140276041', 'White Teeth', 2000, 15.00, 'Literary Fiction', 15),\n",
                "('9780547572482', 'Do Androids Dream of Electric Sheep?', 1968, 18.00, 'Science Fiction', 16),\n",
                "('9780141189685', 'Ficciones', 1944, 13.00, 'Magical Realism', 17),\n",
                "('9780062224682', 'Good Omens', 1990, 20.00, 'Fantasy', 18),\n",
                "('9780441013593', 'The Left Hand of Darkness', 1969, 17.00, 'Science Fiction', 19),\n",
                "('9780618346257', 'The Lord of the Rings', 1954, 30.00, 'Fantasy', 20),\n",
                "('9780553103540', 'The Stand', 1978, 18.00, 'Horror', 4),\n",
                "('9780679601393', 'The Catcher in the Rye', 1951, 15.00, 'Literary Fiction', 33),\n",
                "('9780743273565', 'The Picture of Dorian Gray', 1890, 11.00, 'Gothic Fiction', 34),\n",
                "('9780452284234', '1984', 1949, 14.00, 'Dystopian', 31),\n",
                "('9780440180296', 'Brave New World', 1932, 13.00, 'Dystopian', 31),\n",
                "('9780142437209', 'Moby-Dick', 1851, 16.00, 'Adventure', 35),\n",
                "('9780345339683', 'Frankenstein', 1818, 12.00, 'Gothic Horror', 36),\n",
                "('9780141439471', 'Wuthering Heights', 1847, 14.00, 'Gothic Fiction', 37),\n",
                "('9780143039433', 'The Brothers Karamazov', 1880, 17.00, 'Philosophical Fiction', 27),\n",
                "('9780451526342', 'Crime and Punishment', 1866, 15.00, 'Psychological Fiction', 27),\n",
                "('9780141439587', 'Jane Eyre', 1847, 14.00, 'Gothic Fiction', 38),\n",
                "('9781402713393', 'Great Expectations', 1861, 15.00, 'Literary Fiction', 39),\n",
                "('9780143039952', 'Anna Karenina', 1877, 16.00, 'Realist Fiction', 27),\n",
                "('9780451524997', 'Pride and Prejudice', 1813, 12.00, 'Romance', 5),\n",
                "('9780143107632', 'To Kill a Mockingbird', 1960, 17.00, 'Southern Gothic', 23),\n",
                "('9780143105447', 'The Great Gatsby', 1925, 16.00, 'Tragedy', 26),\n",
                "('9780451527011', 'The Adventures of Huckleberry Finn', 1884, 15.00, 'Adventure', 34),\n",
                "('9780451525260', 'The Scarlet Letter', 1850, 13.00, 'Romance', 40),\n",
                "('9780679735779', 'Their Eyes Were Watching God', 1937, 14.00, 'Literary Fiction', 46),\n",
                "('9780743273566', 'The Sun Also Rises', 1926, 15.00, 'Literary Fiction', 24),\n",
                "('9781400033423', 'The Road', 2006, 19.00, 'Post-apocalyptic Fiction', 24),\n",
                "('9780141439846', 'The Bell Jar', 1963, 16.00, 'Semi-autobiographical Fiction', 41),\n",
                "('9780061120053', 'The Catcher in the Rye', 1951, 14.00, 'Coming-of-age Fiction', 33),\n",
                "('9780385324463', 'The Chronicles of Narnia', 1950, 18.00, 'Fantasy', 20),\n",
                "('9780743273567', 'The Grapes of Wrath', 1939, 17.00, 'Social Realism', 49),\n",
                "('9780385265704', 'One Flew Over the Cuckoo''s Nest', 1962, 16.00, 'Psychological Fiction', 42),\n",
                "('9780571313266', 'Sula', 1973, 15.00, 'African-American Literature', 48),\n",
                "('9780679720201', 'Mrs. Dalloway', 1925, 16.00, 'Modernist Literature', 25),\n",
                "('9780062315007', 'Beloved', 1987, 18.00, 'Postmodern Literature', 9),\n",
                "('9780062256904', 'The Outsiders', 1967, 14.00, 'Young Adult Fiction', 50);"
            ]
        },
        {
            "cell_type": "code",
            "execution_count": 7,
            "metadata": {
                "azdata_cell_guid": "dc0eb0c9-4aba-46ba-9369-5496d5da403c",
                "language": "sql"
            },
            "outputs": [
                {
                    "data": {
                        "text/html": [
                            "(50 rows affected)"
                        ]
                    },
                    "metadata": {},
                    "output_type": "display_data"
                },
                {
                    "data": {
                        "text/html": [
                            "Total execution time: 00:00:00.007"
                        ]
                    },
                    "metadata": {},
                    "output_type": "display_data"
                }
            ],
            "source": [
                "-- Insert sample data into Customers table\n",
                "INSERT INTO Customers (CustomerID, Name, Email, Address) VALUES\n",
                "(1, 'John Doe', 'johndoe@example.com', '123 Main Street, Anytown, USA'),\n",
                "(2, 'Jane Smith', 'janesmith@example.com', '456 Elm Street, Othertown, USA'),\n",
                "(3, 'Alice Johnson', 'alice@example.com', '789 Oak Avenue, Another Town, USA'),\n",
                "(4, 'Bob Williams', 'bob@example.com', '101 Pine Road, Yet Another Town, USA'),\n",
                "(5, 'Emily Brown', 'emily@example.com', '222 Maple Drive, Last Town, USA'),\n",
                "(6, 'Michael Davis', 'michael@example.com', '333 Cedar Lane, Final Town, USA'),\n",
                "(7, 'Sarah Wilson', 'sarah@example.com', '444 Birch Boulevard, End Town, USA'),\n",
                "(8, 'David Garcia', 'david@example.com', '555 Walnut Way, Ultimate Town, USA'),\n",
                "(9, 'Jessica Martinez', 'jessica@example.com', '666 Spruce Street, Supreme Town, USA'),\n",
                "(10, 'Christopher Rodriguez', 'chris@example.com', '777 Oak Street, Paramount Town, USA'),\n",
                "(11, 'Amanda Hernandez', 'amanda@example.com', '888 Elm Avenue, Primary Town, USA'),\n",
                "(12, 'James Lopez', 'james@example.com', '999 Pine Lane, Capital Town, USA'),\n",
                "(13, 'Jennifer Moore', 'jennifer@example.com', '111 Cedar Street, Supreme Town, USA'),\n",
                "(14, 'Matthew Clark', 'matthew@example.com', '222 Birch Way, Paramount Town, USA'),\n",
                "(15, 'Ashley Lewis', 'ashley@example.com', '333 Maple Avenue, Ultimate Town, USA'),\n",
                "(16, 'Daniel Lee', 'daniel@example.com', '444 Pine Drive, Top Town, USA'),\n",
                "(17, 'Kimberly Walker', 'kimberly@example.com', '555 Oak Boulevard, Final Town, USA'),\n",
                "(18, 'Joseph Hall', 'joseph@example.com', '666 Elm Lane, Primary Town, USA'),\n",
                "(19, 'Melissa Allen', 'melissa@example.com', '777 Spruce Street, End Town, USA'),\n",
                "(20, 'Andrew Young', 'andrew@example.com', '888 Walnut Avenue, Supreme Town, USA'),\n",
                "(21, 'Jessica Hernandez', 'jessicah@example.com', '999 Cedar Way, Paramount Town, USA'),\n",
                "(22, 'Christopher King', 'chris@example.com', '101 Pine Street, Ultimate Town, USA'),\n",
                "(23, 'Amanda Wright', 'amanda@example.com', '111 Birch Drive, Top Town, USA'),\n",
                "(24, 'James Scott', 'james@example.com', '121 Maple Lane, Final Town, USA'),\n",
                "(25, 'Megan Green', 'megan@example.com', '131 Oak Street, Primary Town, USA'),\n",
                "(26, 'Ryan Adams', 'ryan@example.com', '141 Elm Avenue, End Town, USA'),\n",
                "(27, 'Nicole Baker', 'nicole@example.com', '151 Spruce Way, Supreme Town, USA'),\n",
                "(28, 'Justin Garcia', 'justin@example.com', '161 Walnut Street, Paramount Town, USA'),\n",
                "(29, 'Samantha Young', 'samantha@example.com', '171 Cedar Drive, Ultimate Town, USA'),\n",
                "(30, 'Robert White', 'robert@example.com', '181 Birch Lane, Top Town, USA'),\n",
                "(31, 'Emily Johnson', 'emilyj@example.com', '191 Maple Street, Final Town, USA'),\n",
                "(32, 'Tyler Moore', 'tyler@example.com', '201 Oak Way, Primary Town, USA'),\n",
                "(33, 'Rachel Hill', 'rachel@example.com', '211 Elm Avenue, End Town, USA'),\n",
                "(34, 'Brandon Cook', 'brandon@example.com', '221 Spruce Lane, Supreme Town, USA'),\n",
                "(35, 'Rebecca Turner', 'rebecca@example.com', '231 Walnut Boulevard, Paramount Town, USA'),\n",
                "(36, 'Jordan Parker', 'jordan@example.com', '241 Cedar Street, Ultimate Town, USA'),\n",
                "(37, 'Hannah Cooper', 'hannah@example.com', '251 Birch Way, Top Town, USA'),\n",
                "(38, 'David Gonzales', 'davidg@example.com', '261 Maple Avenue, Final Town, USA'),\n",
                "(39, 'Kaitlyn Stewart', 'kaitlyn@example.com', '271 Oak Drive, Primary Town, USA'),\n",
                "(40, 'Erica Carter', 'erica@example.com', '281 Elm Street, End Town, USA'),\n",
                "(41, 'Kevin Diaz', 'kevin@example.com', '291 Spruce Avenue, Supreme Town, USA'),\n",
                "(42, 'Maria Reed', 'maria@example.com', '301 Walnut Drive, Paramount Town, USA'),\n",
                "(43, 'Joshua Martinez', 'joshua@example.com', '311 Cedar Lane, Ultimate Town, USA'),\n",
                "(44, 'Lauren James', 'lauren@example.com', '321 Birch Street, Top Town, USA'),\n",
                "(45, 'Cody Morris', 'cody@example.com', '331 Maple Way, Final Town, USA'),\n",
                "(46, 'Alexis Adams', 'alexis@example.com', '341 Oak Lane, Primary Town, USA'),\n",
                "(47, 'Michaela Wright', 'michaelaw@example.com', '351 Elm Street, End Town, USA'),\n",
                "(48, 'Dylan Rodriguez', 'dylan@example.com', '361 Spruce Avenue, Supreme Town, USA'),\n",
                "(49, 'Kelsey Bell', 'kelsey@example.com', '371 Walnut Way, Paramount Town, USA'),\n",
                "(50, 'Isaac Rivera', 'isaac@example.com', '381 Cedar Street, Ultimate Town, USA');\n"
            ]
        },
        {
            "cell_type": "code",
            "execution_count": 3,
            "metadata": {
                "azdata_cell_guid": "71415a73-c055-4cbd-8fe0-874859f718ff",
                "language": "sql"
            },
            "outputs": [
                {
                    "data": {
                        "text/html": [
                            "(50 rows affected)"
                        ]
                    },
                    "metadata": {},
                    "output_type": "display_data"
                },
                {
                    "data": {
                        "text/html": [
                            "Total execution time: 00:00:00.035"
                        ]
                    },
                    "metadata": {},
                    "output_type": "display_data"
                }
            ],
            "source": [
                "-- Insert sample data into Orders table\n",
                "INSERT INTO Orders (OrderID, CustomerID, OrderDate, TotalPrice) VALUES\n",
                "(1, 1, '2024-02-22', 45.00),\n",
                "(2, 2, '2024-02-22', 25.00),\n",
                "(3, 3, '2024-02-23', 60.00),\n",
                "(4, 4, '2024-02-23', 35.00),\n",
                "(5, 5, '2024-02-24', 20.00),\n",
                "(6, 6, '2024-02-24', 50.00),\n",
                "(7, 7, '2024-02-25', 55.00),\n",
                "(8, 8, '2024-02-25', 30.00),\n",
                "(9, 9, '2024-02-26', 40.00),\n",
                "(10, 10, '2024-02-26', 65.00),\n",
                "(11, 11, '2024-02-27', 70.00),\n",
                "(12, 12, '2024-02-27', 15.00),\n",
                "(13, 13, '2024-02-28', 50.00),\n",
                "(14, 14, '2024-02-28', 35.00),\n",
                "(15, 15, '2024-02-29', 25.00),\n",
                "(16, 16, '2024-02-29', 60.00),\n",
                "(17, 17, '2024-03-01', 45.00),\n",
                "(18, 18, '2024-03-01', 30.00),\n",
                "(19, 19, '2024-03-02', 40.00),\n",
                "(20, 20, '2024-03-02', 55.00),\n",
                "(21, 21, '2024-03-03', 70.00),\n",
                "(22, 22, '2024-03-03', 15.00),\n",
                "(23, 23, '2024-03-04', 50.00),\n",
                "(24, 24, '2024-03-04', 35.00),\n",
                "(25, 25, '2024-03-05', 25.00),\n",
                "(26, 26, '2024-03-05', 60.00),\n",
                "(27, 27, '2024-03-06', 45.00),\n",
                "(28, 28, '2024-03-06', 30.00),\n",
                "(29, 29, '2024-03-07', 40.00),\n",
                "(30, 30, '2024-03-07', 65.00),\n",
                "(31, 31, '2024-03-08', 70.00),\n",
                "(32, 32, '2024-03-08', 15.00),\n",
                "(33, 33, '2024-03-09', 50.00),\n",
                "(34, 34, '2024-03-09', 35.00),\n",
                "(35, 35, '2024-03-10', 25.00),\n",
                "(36, 36, '2024-03-10', 60.00),\n",
                "(37, 37, '2024-03-11', 45.00),\n",
                "(38, 38, '2024-03-11', 30.00),\n",
                "(39, 39, '2024-03-12', 40.00),\n",
                "(40, 40, '2024-03-12', 55.00),\n",
                "(41, 41, '2024-03-13', 70.00),\n",
                "(42, 42, '2024-03-13', 15.00),\n",
                "(43, 43, '2024-03-14', 50.00),\n",
                "(44, 44, '2024-03-14', 35.00),\n",
                "(45, 45, '2024-03-15', 25.00),\n",
                "(46, 46, '2024-03-15', 60.00),\n",
                "(47, 47, '2024-03-16', 45.00),\n",
                "(48, 48, '2024-03-16', 30.00),\n",
                "(49, 49, '2024-03-17', 40.00),\n",
                "(50, 50, '2024-03-17', 65.00);\n"
            ]
        },
        {
            "cell_type": "code",
            "execution_count": 11,
            "metadata": {
                "azdata_cell_guid": "b0475165-8b8b-447d-ae93-7c61f1b9b4c0",
                "language": "sql"
            },
            "outputs": [
                {
                    "data": {
                        "text/html": [
                            "(41 rows affected)"
                        ]
                    },
                    "metadata": {},
                    "output_type": "display_data"
                },
                {
                    "data": {
                        "text/html": [
                            "Total execution time: 00:00:00.017"
                        ]
                    },
                    "metadata": {},
                    "output_type": "display_data"
                }
            ],
            "source": [
                "INSERT INTO Reviews (ReviewID, CustomerID, ISBN, Rating, Comments) VALUES\n",
                "(10, 1, '9780007121776', 4, 'Good book'),\n",
                "(11, 2, '9780061120053', 5, 'Excellent book'),\n",
                "(12, 3, '9780061120084', 3, 'Average read'),\n",
                "(13, 4, '9780062224682', 5, 'Fantastic book!'),\n",
                "(14, 5, '9780062255655', 4, 'Enjoyed it'),\n",
                "(15, 6, '9780062256904', 2, 'Disappointing'),\n",
                "(16, 7, '9780062315007', 4, 'Well-written'),\n",
                "(17, 8, '9780099448792', 3, 'Could have been better'),\n",
                "(18, 9, '9780140276041', 5, 'Must-read!'),\n",
                "(19, 10, '9780141189685', 4, 'Engaging storyline'),\n",
                "(20, 11, '9780141439471', 5, 'Couldn''t put it down!'),\n",
                "(21, 12, '9780141439563', 2, 'Not my cup of tea'),\n",
                "(22, 13, '9780141439587', 4, 'Liked the characters'),\n",
                "(23, 14, '9780141439846', 3, 'Okay book'),\n",
                "(24, 15, '9780142437209', 5, 'Highly recommended'),\n",
                "(25, 16, '9780143039433', 4, 'Great plot twists'),\n",
                "(26, 17, '9780143039952', 4, 'Solid read'),\n",
                "(27, 18, '9780143105447', 3, 'Expected more'),\n",
                "(28, 19, '9780143107632', 5, 'Brilliant!'),\n",
                "(29, 20, '9780307474278', 4, 'Thoroughly enjoyed it'),\n",
                "(30, 21, '9780345339683', 5, 'Captivating story'),\n",
                "(31, 22, '9780385265704', 2, 'Not worth the hype'),\n",
                "(32, 23, '9780385324463', 4, 'Well-developed characters'),\n",
                "(33, 24, '9780385504201', 3, 'Decent read'),\n",
                "(34, 25, '9780439554930', 5, 'Loved it!'),\n",
                "(35, 26, '9780440180296', 4, 'Unexpected ending'),\n",
                "(36, 27, '9780441013593', 4, 'Kept me hooked'),\n",
                "(37, 28, '9780446675536', 3, 'Average storyline'),\n",
                "(38, 29, '9780451167317', 5, 'Unputdownable!'),\n",
                "(39, 30, '9780451524997', 4, 'Enjoyable read'),\n",
                "(40, 31, '9780451525260', 5, 'A masterpiece!'),\n",
                "(41, 32, '9780451526342', 2, 'Disliked it'),\n",
                "(42, 33, '9780451527011', 4, 'Well-paced narrative'),\n",
                "(43, 34, '9780452284234', 3, 'Mediocre book'),\n",
                "(44, 35, '9780547572482', 5, 'Absolutely loved it!'),\n",
                "(45, 36, '9780553103540', 4, 'Satisfying conclusion'),\n",
                "(46, 37, '9780553293357', 4, 'Thought-provoking'),\n",
                "(47, 38, '9780553801477', 3, 'Could''ve been more engaging'),\n",
                "(48, 39, '9780571225395', 5, 'Couldn''t recommend it enough!'),\n",
                "(49, 40, '9780571313266', 4, 'Page-turner'),\n",
                "(50, 41, '9780618346257', 5, 'Impressive writing style');\n"
            ]
        },
        {
            "attachments": {},
            "cell_type": "markdown",
            "metadata": {
                "azdata_cell_guid": "18c63977-905c-405f-a0d6-836fc1e3c268",
                "language": "sql"
            },
            "source": [
                "Now that the database schema and data insertion has been concluded. Now, let's work on solving query tasks to get more insight from the data"
            ]
        },
        {
            "cell_type": "code",
            "execution_count": 13,
            "metadata": {
                "azdata_cell_guid": "adeaa037-a80c-4eb8-bfbd-f5e86adf9b3d",
                "language": "sql"
            },
            "outputs": [
                {
                    "data": {
                        "text/html": [
                            "(2 rows affected)"
                        ]
                    },
                    "metadata": {},
                    "output_type": "display_data"
                },
                {
                    "data": {
                        "text/html": [
                            "Total execution time: 00:00:00.011"
                        ]
                    },
                    "metadata": {},
                    "output_type": "display_data"
                },
                {
                    "data": {
                        "application/vnd.dataresource+json": {
                            "data": [
                                {
                                    "AuthorID": "11",
                                    "Genre": "Historical Fiction",
                                    "ISBN": "9780007121776",
                                    "Price": "14.00",
                                    "PublicationYear": "2006",
                                    "Title": "Half of a Yellow Sun"
                                },
                                {
                                    "AuthorID": "24",
                                    "Genre": "Post-apocalyptic Fiction",
                                    "ISBN": "9781400033423",
                                    "Price": "19.00",
                                    "PublicationYear": "2006",
                                    "Title": "The Road"
                                }
                            ],
                            "schema": {
                                "fields": [
                                    {
                                        "name": "ISBN"
                                    },
                                    {
                                        "name": "Title"
                                    },
                                    {
                                        "name": "PublicationYear"
                                    },
                                    {
                                        "name": "Price"
                                    },
                                    {
                                        "name": "Genre"
                                    },
                                    {
                                        "name": "AuthorID"
                                    }
                                ]
                            }
                        },
                        "text/html": [
                            "<table>\n",
                            "<tr><th>ISBN</th><th>Title</th><th>PublicationYear</th><th>Price</th><th>Genre</th><th>AuthorID</th></tr>\n",
                            "<tr><td>9780007121776</td><td>Half of a Yellow Sun</td><td>2006</td><td>14.00</td><td>Historical Fiction</td><td>11</td></tr>\n",
                            "<tr><td>9781400033423</td><td>The Road</td><td>2006</td><td>19.00</td><td>Post-apocalyptic Fiction</td><td>24</td></tr>\n",
                            "</table>"
                        ]
                    },
                    "execution_count": 13,
                    "metadata": {},
                    "output_type": "execute_result"
                }
            ],
            "source": [
                "-- Retrieve all books published in a specific year\n",
                "\n",
                "SELECT * FROM Books WHERE PublicationYear = 2006;\n"
            ]
        },
        {
            "cell_type": "code",
            "execution_count": 15,
            "metadata": {
                "azdata_cell_guid": "4461478e-1ac1-4663-92aa-24a476f764fc",
                "language": "sql"
            },
            "outputs": [
                {
                    "data": {
                        "text/html": [
                            "(1 row affected)"
                        ]
                    },
                    "metadata": {},
                    "output_type": "display_data"
                },
                {
                    "data": {
                        "text/html": [
                            "Total execution time: 00:00:00.015"
                        ]
                    },
                    "metadata": {},
                    "output_type": "display_data"
                },
                {
                    "data": {
                        "application/vnd.dataresource+json": {
                            "data": [
                                {
                                    "CustomerID": "20",
                                    "OrderDate": "2024-03-02 00:00:00.000",
                                    "OrderID": "20",
                                    "TotalPrice": "55.00"
                                }
                            ],
                            "schema": {
                                "fields": [
                                    {
                                        "name": "OrderID"
                                    },
                                    {
                                        "name": "CustomerID"
                                    },
                                    {
                                        "name": "OrderDate"
                                    },
                                    {
                                        "name": "TotalPrice"
                                    }
                                ]
                            }
                        },
                        "text/html": [
                            "<table>\n",
                            "<tr><th>OrderID</th><th>CustomerID</th><th>OrderDate</th><th>TotalPrice</th></tr>\n",
                            "<tr><td>20</td><td>20</td><td>2024-03-02 00:00:00.000</td><td>55.00</td></tr>\n",
                            "</table>"
                        ]
                    },
                    "execution_count": 15,
                    "metadata": {},
                    "output_type": "execute_result"
                }
            ],
            "source": [
                "-- Retrieve all orders made by a particular customer\n",
                "\n",
                "SELECT * FROM Orders WHERE CustomerID = 20;\n"
            ]
        },
        {
            "cell_type": "code",
            "execution_count": 16,
            "metadata": {
                "azdata_cell_guid": "80d45bd3-5231-4c84-82c0-3e39fc5c3b01",
                "language": "sql"
            },
            "outputs": [
                {
                    "data": {
                        "text/html": [
                            "(50 rows affected)"
                        ]
                    },
                    "metadata": {},
                    "output_type": "display_data"
                },
                {
                    "data": {
                        "text/html": [
                            "Total execution time: 00:00:00.032"
                        ]
                    },
                    "metadata": {},
                    "output_type": "display_data"
                },
                {
                    "data": {
                        "application/vnd.dataresource+json": {
                            "data": [
                                {
                                    "Name": "Alexis Adams",
                                    "TotalSpent": "60.00"
                                },
                                {
                                    "Name": "Alice Johnson",
                                    "TotalSpent": "60.00"
                                },
                                {
                                    "Name": "Amanda Hernandez",
                                    "TotalSpent": "70.00"
                                },
                                {
                                    "Name": "Amanda Wright",
                                    "TotalSpent": "50.00"
                                },
                                {
                                    "Name": "Andrew Young",
                                    "TotalSpent": "55.00"
                                },
                                {
                                    "Name": "Ashley Lewis",
                                    "TotalSpent": "25.00"
                                },
                                {
                                    "Name": "Bob Williams",
                                    "TotalSpent": "35.00"
                                },
                                {
                                    "Name": "Brandon Cook",
                                    "TotalSpent": "35.00"
                                },
                                {
                                    "Name": "Christopher King",
                                    "TotalSpent": "15.00"
                                },
                                {
                                    "Name": "Christopher Rodriguez",
                                    "TotalSpent": "65.00"
                                },
                                {
                                    "Name": "Cody Morris",
                                    "TotalSpent": "25.00"
                                },
                                {
                                    "Name": "Daniel Lee",
                                    "TotalSpent": "60.00"
                                },
                                {
                                    "Name": "David Garcia",
                                    "TotalSpent": "30.00"
                                },
                                {
                                    "Name": "David Gonzales",
                                    "TotalSpent": "30.00"
                                },
                                {
                                    "Name": "Dylan Rodriguez",
                                    "TotalSpent": "30.00"
                                },
                                {
                                    "Name": "Emily Brown",
                                    "TotalSpent": "20.00"
                                },
                                {
                                    "Name": "Emily Johnson",
                                    "TotalSpent": "70.00"
                                },
                                {
                                    "Name": "Erica Carter",
                                    "TotalSpent": "55.00"
                                },
                                {
                                    "Name": "Hannah Cooper",
                                    "TotalSpent": "45.00"
                                },
                                {
                                    "Name": "Isaac Rivera",
                                    "TotalSpent": "65.00"
                                },
                                {
                                    "Name": "James Lopez",
                                    "TotalSpent": "15.00"
                                },
                                {
                                    "Name": "James Scott",
                                    "TotalSpent": "35.00"
                                },
                                {
                                    "Name": "Jane Smith",
                                    "TotalSpent": "25.00"
                                },
                                {
                                    "Name": "Jennifer Moore",
                                    "TotalSpent": "50.00"
                                },
                                {
                                    "Name": "Jessica Hernandez",
                                    "TotalSpent": "70.00"
                                },
                                {
                                    "Name": "Jessica Martinez",
                                    "TotalSpent": "40.00"
                                },
                                {
                                    "Name": "John Doe",
                                    "TotalSpent": "45.00"
                                },
                                {
                                    "Name": "Jordan Parker",
                                    "TotalSpent": "60.00"
                                },
                                {
                                    "Name": "Joseph Hall",
                                    "TotalSpent": "30.00"
                                },
                                {
                                    "Name": "Joshua Martinez",
                                    "TotalSpent": "50.00"
                                },
                                {
                                    "Name": "Justin Garcia",
                                    "TotalSpent": "30.00"
                                },
                                {
                                    "Name": "Kaitlyn Stewart",
                                    "TotalSpent": "40.00"
                                },
                                {
                                    "Name": "Kelsey Bell",
                                    "TotalSpent": "40.00"
                                },
                                {
                                    "Name": "Kevin Diaz",
                                    "TotalSpent": "70.00"
                                },
                                {
                                    "Name": "Kimberly Walker",
                                    "TotalSpent": "45.00"
                                },
                                {
                                    "Name": "Lauren James",
                                    "TotalSpent": "35.00"
                                },
                                {
                                    "Name": "Maria Reed",
                                    "TotalSpent": "15.00"
                                },
                                {
                                    "Name": "Matthew Clark",
                                    "TotalSpent": "35.00"
                                },
                                {
                                    "Name": "Megan Green",
                                    "TotalSpent": "25.00"
                                },
                                {
                                    "Name": "Melissa Allen",
                                    "TotalSpent": "40.00"
                                },
                                {
                                    "Name": "Michael Davis",
                                    "TotalSpent": "50.00"
                                },
                                {
                                    "Name": "Michaela Wright",
                                    "TotalSpent": "45.00"
                                },
                                {
                                    "Name": "Nicole Baker",
                                    "TotalSpent": "45.00"
                                },
                                {
                                    "Name": "Rachel Hill",
                                    "TotalSpent": "50.00"
                                },
                                {
                                    "Name": "Rebecca Turner",
                                    "TotalSpent": "25.00"
                                },
                                {
                                    "Name": "Robert White",
                                    "TotalSpent": "65.00"
                                },
                                {
                                    "Name": "Ryan Adams",
                                    "TotalSpent": "60.00"
                                },
                                {
                                    "Name": "Samantha Young",
                                    "TotalSpent": "40.00"
                                },
                                {
                                    "Name": "Sarah Wilson",
                                    "TotalSpent": "55.00"
                                },
                                {
                                    "Name": "Tyler Moore",
                                    "TotalSpent": "15.00"
                                }
                            ],
                            "schema": {
                                "fields": [
                                    {
                                        "name": "Name"
                                    },
                                    {
                                        "name": "TotalSpent"
                                    }
                                ]
                            }
                        },
                        "text/html": [
                            "<table>\n",
                            "<tr><th>Name</th><th>TotalSpent</th></tr>\n",
                            "<tr><td>Alexis Adams</td><td>60.00</td></tr>\n",
                            "<tr><td>Alice Johnson</td><td>60.00</td></tr>\n",
                            "<tr><td>Amanda Hernandez</td><td>70.00</td></tr>\n",
                            "<tr><td>Amanda Wright</td><td>50.00</td></tr>\n",
                            "<tr><td>Andrew Young</td><td>55.00</td></tr>\n",
                            "<tr><td>Ashley Lewis</td><td>25.00</td></tr>\n",
                            "<tr><td>Bob Williams</td><td>35.00</td></tr>\n",
                            "<tr><td>Brandon Cook</td><td>35.00</td></tr>\n",
                            "<tr><td>Christopher King</td><td>15.00</td></tr>\n",
                            "<tr><td>Christopher Rodriguez</td><td>65.00</td></tr>\n",
                            "<tr><td>Cody Morris</td><td>25.00</td></tr>\n",
                            "<tr><td>Daniel Lee</td><td>60.00</td></tr>\n",
                            "<tr><td>David Garcia</td><td>30.00</td></tr>\n",
                            "<tr><td>David Gonzales</td><td>30.00</td></tr>\n",
                            "<tr><td>Dylan Rodriguez</td><td>30.00</td></tr>\n",
                            "<tr><td>Emily Brown</td><td>20.00</td></tr>\n",
                            "<tr><td>Emily Johnson</td><td>70.00</td></tr>\n",
                            "<tr><td>Erica Carter</td><td>55.00</td></tr>\n",
                            "<tr><td>Hannah Cooper</td><td>45.00</td></tr>\n",
                            "<tr><td>Isaac Rivera</td><td>65.00</td></tr>\n",
                            "<tr><td>James Lopez</td><td>15.00</td></tr>\n",
                            "<tr><td>James Scott</td><td>35.00</td></tr>\n",
                            "<tr><td>Jane Smith</td><td>25.00</td></tr>\n",
                            "<tr><td>Jennifer Moore</td><td>50.00</td></tr>\n",
                            "<tr><td>Jessica Hernandez</td><td>70.00</td></tr>\n",
                            "<tr><td>Jessica Martinez</td><td>40.00</td></tr>\n",
                            "<tr><td>John Doe</td><td>45.00</td></tr>\n",
                            "<tr><td>Jordan Parker</td><td>60.00</td></tr>\n",
                            "<tr><td>Joseph Hall</td><td>30.00</td></tr>\n",
                            "<tr><td>Joshua Martinez</td><td>50.00</td></tr>\n",
                            "<tr><td>Justin Garcia</td><td>30.00</td></tr>\n",
                            "<tr><td>Kaitlyn Stewart</td><td>40.00</td></tr>\n",
                            "<tr><td>Kelsey Bell</td><td>40.00</td></tr>\n",
                            "<tr><td>Kevin Diaz</td><td>70.00</td></tr>\n",
                            "<tr><td>Kimberly Walker</td><td>45.00</td></tr>\n",
                            "<tr><td>Lauren James</td><td>35.00</td></tr>\n",
                            "<tr><td>Maria Reed</td><td>15.00</td></tr>\n",
                            "<tr><td>Matthew Clark</td><td>35.00</td></tr>\n",
                            "<tr><td>Megan Green</td><td>25.00</td></tr>\n",
                            "<tr><td>Melissa Allen</td><td>40.00</td></tr>\n",
                            "<tr><td>Michael Davis</td><td>50.00</td></tr>\n",
                            "<tr><td>Michaela Wright</td><td>45.00</td></tr>\n",
                            "<tr><td>Nicole Baker</td><td>45.00</td></tr>\n",
                            "<tr><td>Rachel Hill</td><td>50.00</td></tr>\n",
                            "<tr><td>Rebecca Turner</td><td>25.00</td></tr>\n",
                            "<tr><td>Robert White</td><td>65.00</td></tr>\n",
                            "<tr><td>Ryan Adams</td><td>60.00</td></tr>\n",
                            "<tr><td>Samantha Young</td><td>40.00</td></tr>\n",
                            "<tr><td>Sarah Wilson</td><td>55.00</td></tr>\n",
                            "<tr><td>Tyler Moore</td><td>15.00</td></tr>\n",
                            "</table>"
                        ]
                    },
                    "execution_count": 16,
                    "metadata": {},
                    "output_type": "execute_result"
                }
            ],
            "source": [
                "-- Calculate the total amount spent by each customer\n",
                "SELECT c.Name, SUM(o.TotalPrice) AS TotalSpent\n",
                "FROM Customers c\n",
                "JOIN Orders o ON c.CustomerID = o.CustomerID\n",
                "GROUP BY c.Name;\n"
            ]
        },
        {
            "cell_type": "code",
            "execution_count": 20,
            "metadata": {
                "azdata_cell_guid": "125898b7-1c86-4af7-82bd-eba2381cfed9",
                "language": "sql"
            },
            "outputs": [
                {
                    "data": {
                        "text/html": [
                            "(1 row affected)"
                        ]
                    },
                    "metadata": {},
                    "output_type": "display_data"
                },
                {
                    "data": {
                        "text/html": [
                            "Total execution time: 00:00:00.008"
                        ]
                    },
                    "metadata": {},
                    "output_type": "display_data"
                },
                {
                    "data": {
                        "application/vnd.dataresource+json": {
                            "data": [
                                {
                                    "MaxRating": "6",
                                    "Title": "Pride and Prejudice"
                                }
                            ],
                            "schema": {
                                "fields": [
                                    {
                                        "name": "Title"
                                    },
                                    {
                                        "name": "MaxRating"
                                    }
                                ]
                            }
                        },
                        "text/html": [
                            "<table>\n",
                            "<tr><th>Title</th><th>MaxRating</th></tr>\n",
                            "<tr><td>Pride and Prejudice</td><td>6</td></tr>\n",
                            "</table>"
                        ]
                    },
                    "execution_count": 20,
                    "metadata": {},
                    "output_type": "execute_result"
                }
            ],
            "source": [
                "-- Retrieve the highest-rated book\n",
                "SELECT TOP 1 b.Title, SUM(r.Rating) AS MaxRating\n",
                "FROM Books b\n",
                "JOIN Reviews r ON b.ISBN = r.ISBN\n",
                "GROUP BY b.Title\n",
                "ORDER BY MaxRating DESC;\n"
            ]
        },
        {
            "cell_type": "code",
            "execution_count": 25,
            "metadata": {
                "azdata_cell_guid": "d194e4ff-95f0-400b-9ddb-d65bea7a990d",
                "language": "sql"
            },
            "outputs": [
                {
                    "data": {
                        "text/html": [
                            "(5 rows affected)"
                        ]
                    },
                    "metadata": {},
                    "output_type": "display_data"
                },
                {
                    "data": {
                        "text/html": [
                            "Total execution time: 00:00:00.017"
                        ]
                    },
                    "metadata": {},
                    "output_type": "display_data"
                },
                {
                    "data": {
                        "application/vnd.dataresource+json": {
                            "data": [
                                {
                                    "Name": "George R.R. Martin"
                                },
                                {
                                    "Name": "J.K. Rowling"
                                },
                                {
                                    "Name": "J.R.R. Tolkien"
                                },
                                {
                                    "Name": "Neil Gaiman"
                                },
                                {
                                    "Name": "Terry Pratchett"
                                }
                            ],
                            "schema": {
                                "fields": [
                                    {
                                        "name": "Name"
                                    }
                                ]
                            }
                        },
                        "text/html": [
                            "<table>\n",
                            "<tr><th>Name</th></tr>\n",
                            "<tr><td>George R.R. Martin</td></tr>\n",
                            "<tr><td>J.K. Rowling</td></tr>\n",
                            "<tr><td>J.R.R. Tolkien</td></tr>\n",
                            "<tr><td>Neil Gaiman</td></tr>\n",
                            "<tr><td>Terry Pratchett</td></tr>\n",
                            "</table>"
                        ]
                    },
                    "execution_count": 25,
                    "metadata": {},
                    "output_type": "execute_result"
                }
            ],
            "source": [
                "-- Retrieve the authors who have written books in a specific genre\n",
                "\n",
                "SELECT DISTINCT a.Name\n",
                "FROM Authors a\n",
                "JOIN Books b ON a.AuthorID = b.AuthorID\n",
                "WHERE b.Genre = 'Fantasy';\n"
            ]
        },
        {
            "cell_type": "code",
            "execution_count": 26,
            "metadata": {
                "azdata_cell_guid": "fe0e8375-653d-4a59-8aa0-fa8ed2460460",
                "language": "sql"
            },
            "outputs": [
                {
                    "data": {
                        "text/html": [
                            "(1 row affected)"
                        ]
                    },
                    "metadata": {},
                    "output_type": "display_data"
                },
                {
                    "data": {
                        "text/html": [
                            "Total execution time: 00:00:00.031"
                        ]
                    },
                    "metadata": {},
                    "output_type": "display_data"
                },
                {
                    "data": {
                        "application/vnd.dataresource+json": {
                            "data": [
                                {
                                    "Name": "Amanda Hernandez",
                                    "RatingSum": "5",
                                    "ReviewCount": "1"
                                }
                            ],
                            "schema": {
                                "fields": [
                                    {
                                        "name": "Name"
                                    },
                                    {
                                        "name": "ReviewCount"
                                    },
                                    {
                                        "name": "RatingSum"
                                    }
                                ]
                            }
                        },
                        "text/html": [
                            "<table>\n",
                            "<tr><th>Name</th><th>ReviewCount</th><th>RatingSum</th></tr>\n",
                            "<tr><td>Amanda Hernandez</td><td>1</td><td>5</td></tr>\n",
                            "</table>"
                        ]
                    },
                    "execution_count": 26,
                    "metadata": {},
                    "output_type": "execute_result"
                }
            ],
            "source": [
                "-- Retrieve the customers who have given the most reviews\n",
                "\n",
                "SELECT TOP 1 c.Name, COUNT(*) AS ReviewCount, SUM(r.Rating) AS RatingSum\n",
                "FROM Customers c\n",
                "JOIN Reviews r ON c.CustomerID = r.CustomerID\n",
                "GROUP BY c.Name\n",
                "ORDER BY ReviewCount DESC, RatingSum DESC;\n"
            ]
        },
        {
            "cell_type": "code",
            "execution_count": 27,
            "metadata": {
                "azdata_cell_guid": "d9a2bff1-4e5e-45cb-b3aa-a58b30de7efc",
                "language": "sql"
            },
            "outputs": [
                {
                    "data": {
                        "text/html": [
                            "(33 rows affected)"
                        ]
                    },
                    "metadata": {},
                    "output_type": "display_data"
                },
                {
                    "data": {
                        "text/html": [
                            "Total execution time: 00:00:00.029"
                        ]
                    },
                    "metadata": {},
                    "output_type": "display_data"
                },
                {
                    "data": {
                        "application/vnd.dataresource+json": {
                            "data": [
                                {
                                    "AvgRating": "3",
                                    "Name": "Agatha Christie"
                                },
                                {
                                    "AvgRating": "3",
                                    "Name": "Alice Walker"
                                },
                                {
                                    "AvgRating": "4",
                                    "Name": "Chimamanda Ngozi Adichie"
                                },
                                {
                                    "AvgRating": "5",
                                    "Name": "Edgar Allan Poe"
                                },
                                {
                                    "AvgRating": "5",
                                    "Name": "Emily Dickinson"
                                },
                                {
                                    "AvgRating": "3",
                                    "Name": "F. Scott Fitzgerald"
                                },
                                {
                                    "AvgRating": "4",
                                    "Name": "Gabriel García Márquez"
                                },
                                {
                                    "AvgRating": "3",
                                    "Name": "George R.R. Martin"
                                },
                                {
                                    "AvgRating": "5",
                                    "Name": "Harper Lee"
                                },
                                {
                                    "AvgRating": "3",
                                    "Name": "Haruki Murakami"
                                },
                                {
                                    "AvgRating": "4",
                                    "Name": "Isaac Asimov"
                                },
                                {
                                    "AvgRating": "5",
                                    "Name": "Italo Calvino"
                                },
                                {
                                    "AvgRating": "5",
                                    "Name": "J.K. Rowling"
                                },
                                {
                                    "AvgRating": "4",
                                    "Name": "J.R.R. Tolkien"
                                },
                                {
                                    "AvgRating": "3",
                                    "Name": "Jane Austen"
                                },
                                {
                                    "AvgRating": "4",
                                    "Name": "Jorge Luis Borges"
                                },
                                {
                                    "AvgRating": "5",
                                    "Name": "Kazuo Ishiguro"
                                },
                                {
                                    "AvgRating": "2",
                                    "Name": "Kurt Vonnegut"
                                },
                                {
                                    "AvgRating": "3",
                                    "Name": "Leo Tolstoy"
                                },
                                {
                                    "AvgRating": "5",
                                    "Name": "Louisa May Alcott"
                                },
                                {
                                    "AvgRating": "3",
                                    "Name": "Margaret Atwood"
                                },
                                {
                                    "AvgRating": "4",
                                    "Name": "Mark Twain"
                                },
                                {
                                    "AvgRating": "4",
                                    "Name": "Neil Gaiman"
                                },
                                {
                                    "AvgRating": "3",
                                    "Name": "Octavia Butler"
                                },
                                {
                                    "AvgRating": "4",
                                    "Name": "Octavio Paz"
                                },
                                {
                                    "AvgRating": "5",
                                    "Name": "Philip K. Dick"
                                },
                                {
                                    "AvgRating": "3",
                                    "Name": "Salman Rushdie"
                                },
                                {
                                    "AvgRating": "4",
                                    "Name": "Stephen King"
                                },
                                {
                                    "AvgRating": "5",
                                    "Name": "Terry Pratchett"
                                },
                                {
                                    "AvgRating": "4",
                                    "Name": "Toni Morrison"
                                },
                                {
                                    "AvgRating": "4",
                                    "Name": "Ursula K. Le Guin"
                                },
                                {
                                    "AvgRating": "2",
                                    "Name": "Virginia Woolf"
                                },
                                {
                                    "AvgRating": "5",
                                    "Name": "Zadie Smith"
                                }
                            ],
                            "schema": {
                                "fields": [
                                    {
                                        "name": "Name"
                                    },
                                    {
                                        "name": "AvgRating"
                                    }
                                ]
                            }
                        },
                        "text/html": [
                            "<table>\n",
                            "<tr><th>Name</th><th>AvgRating</th></tr>\n",
                            "<tr><td>Agatha Christie</td><td>3</td></tr>\n",
                            "<tr><td>Alice Walker</td><td>3</td></tr>\n",
                            "<tr><td>Chimamanda Ngozi Adichie</td><td>4</td></tr>\n",
                            "<tr><td>Edgar Allan Poe</td><td>5</td></tr>\n",
                            "<tr><td>Emily Dickinson</td><td>5</td></tr>\n",
                            "<tr><td>F. Scott Fitzgerald</td><td>3</td></tr>\n",
                            "<tr><td>Gabriel García Márquez</td><td>4</td></tr>\n",
                            "<tr><td>George R.R. Martin</td><td>3</td></tr>\n",
                            "<tr><td>Harper Lee</td><td>5</td></tr>\n",
                            "<tr><td>Haruki Murakami</td><td>3</td></tr>\n",
                            "<tr><td>Isaac Asimov</td><td>4</td></tr>\n",
                            "<tr><td>Italo Calvino</td><td>5</td></tr>\n",
                            "<tr><td>J.K. Rowling</td><td>5</td></tr>\n",
                            "<tr><td>J.R.R. Tolkien</td><td>4</td></tr>\n",
                            "<tr><td>Jane Austen</td><td>3</td></tr>\n",
                            "<tr><td>Jorge Luis Borges</td><td>4</td></tr>\n",
                            "<tr><td>Kazuo Ishiguro</td><td>5</td></tr>\n",
                            "<tr><td>Kurt Vonnegut</td><td>2</td></tr>\n",
                            "<tr><td>Leo Tolstoy</td><td>3</td></tr>\n",
                            "<tr><td>Louisa May Alcott</td><td>5</td></tr>\n",
                            "<tr><td>Margaret Atwood</td><td>3</td></tr>\n",
                            "<tr><td>Mark Twain</td><td>4</td></tr>\n",
                            "<tr><td>Neil Gaiman</td><td>4</td></tr>\n",
                            "<tr><td>Octavia Butler</td><td>3</td></tr>\n",
                            "<tr><td>Octavio Paz</td><td>4</td></tr>\n",
                            "<tr><td>Philip K. Dick</td><td>5</td></tr>\n",
                            "<tr><td>Salman Rushdie</td><td>3</td></tr>\n",
                            "<tr><td>Stephen King</td><td>4</td></tr>\n",
                            "<tr><td>Terry Pratchett</td><td>5</td></tr>\n",
                            "<tr><td>Toni Morrison</td><td>4</td></tr>\n",
                            "<tr><td>Ursula K. Le Guin</td><td>4</td></tr>\n",
                            "<tr><td>Virginia Woolf</td><td>2</td></tr>\n",
                            "<tr><td>Zadie Smith</td><td>5</td></tr>\n",
                            "</table>"
                        ]
                    },
                    "execution_count": 27,
                    "metadata": {},
                    "output_type": "execute_result"
                }
            ],
            "source": [
                "-- Retrieve the average rating of books written by each author\n",
                "\n",
                "SELECT a.Name, AVG(r.Rating) AS AvgRating\n",
                "FROM Authors a\n",
                "JOIN Books b ON a.AuthorID = b.AuthorID\n",
                "JOIN Reviews r ON b.ISBN = r.ISBN\n",
                "GROUP BY a.Name;\n"
            ]
        },
        {
            "cell_type": "code",
            "execution_count": 29,
            "metadata": {
                "azdata_cell_guid": "1356111b-5cc0-4695-bdef-dae32a87ceb2",
                "language": "sql"
            },
            "outputs": [
                {
                    "data": {
                        "text/html": [
                            "(2 rows affected)"
                        ]
                    },
                    "metadata": {},
                    "output_type": "display_data"
                },
                {
                    "data": {
                        "text/html": [
                            "Total execution time: 00:00:00.017"
                        ]
                    },
                    "metadata": {},
                    "output_type": "display_data"
                },
                {
                    "data": {
                        "application/vnd.dataresource+json": {
                            "data": [
                                {
                                    "ISBN": "9780553801477",
                                    "Price": "25.00",
                                    "Title": "A Game of Thrones"
                                },
                                {
                                    "ISBN": "9780618346257",
                                    "Price": "30.00",
                                    "Title": "The Lord of the Rings"
                                }
                            ],
                            "schema": {
                                "fields": [
                                    {
                                        "name": "ISBN"
                                    },
                                    {
                                        "name": "Title"
                                    },
                                    {
                                        "name": "Price"
                                    }
                                ]
                            }
                        },
                        "text/html": [
                            "<table>\n",
                            "<tr><th>ISBN</th><th>Title</th><th>Price</th></tr>\n",
                            "<tr><td>9780553801477</td><td>A Game of Thrones</td><td>25.00</td></tr>\n",
                            "<tr><td>9780618346257</td><td>The Lord of the Rings</td><td>30.00</td></tr>\n",
                            "</table>"
                        ]
                    },
                    "execution_count": 29,
                    "metadata": {},
                    "output_type": "execute_result"
                }
            ],
            "source": [
                "-- Retrieve books with a price higher than the average price of books in the same genre\n",
                "\n",
                "SELECT ISBN, Title, Price\n",
                "FROM Books\n",
                "WHERE Genre = 'Fantasy' AND Price > (\n",
                "    SELECT AVG(Price)\n",
                "    FROM Books\n",
                "    WHERE Genre = 'Fantasy'\n",
                ");\n"
            ]
        },
        {
            "cell_type": "code",
            "execution_count": 34,
            "metadata": {
                "azdata_cell_guid": "1b9361e2-760c-44e8-bb0d-ad6b96120f6a",
                "language": "sql"
            },
            "outputs": [
                {
                    "data": {
                        "text/html": [
                            "(1 row affected)"
                        ]
                    },
                    "metadata": {},
                    "output_type": "display_data"
                },
                {
                    "data": {
                        "text/html": [
                            "Total execution time: 00:00:00.006"
                        ]
                    },
                    "metadata": {},
                    "output_type": "display_data"
                },
                {
                    "data": {
                        "application/vnd.dataresource+json": {
                            "data": [
                                {
                                    "CustomerID": "1",
                                    "Name": "John Doe"
                                }
                            ],
                            "schema": {
                                "fields": [
                                    {
                                        "name": "CustomerID"
                                    },
                                    {
                                        "name": "Name"
                                    }
                                ]
                            }
                        },
                        "text/html": [
                            "<table>\n",
                            "<tr><th>CustomerID</th><th>Name</th></tr>\n",
                            "<tr><td>1</td><td>John Doe</td></tr>\n",
                            "</table>"
                        ]
                    },
                    "execution_count": 34,
                    "metadata": {},
                    "output_type": "execute_result"
                }
            ],
            "source": [
                "-- Retrieve customers who have ordered books published by a specific author\n",
                "\n",
                "SELECT DISTINCT c.CustomerID, c.Name\n",
                "FROM Customers c\n",
                "JOIN Orders o ON c.CustomerID = o.CustomerID\n",
                "JOIN Reviews r ON r.CustomerID = c.CustomerID\n",
                "JOIN Books b ON r.ISBN = b.ISBN\n",
                "WHERE b.AuthorID = (\n",
                "    SELECT AuthorID\n",
                "    FROM Authors\n",
                "    WHERE Name = 'Chimamanda Ngozi Adichie'\n",
                ");\n"
            ]
        },
        {
            "cell_type": "code",
            "execution_count": 37,
            "metadata": {
                "azdata_cell_guid": "ac407c74-e9c6-49d5-929d-fc3075753c3a",
                "language": "sql"
            },
            "outputs": [
                {
                    "data": {
                        "text/html": [
                            "(1 row affected)"
                        ]
                    },
                    "metadata": {},
                    "output_type": "display_data"
                },
                {
                    "data": {
                        "text/html": [
                            "Total execution time: 00:00:00.008"
                        ]
                    },
                    "metadata": {},
                    "output_type": "display_data"
                },
                {
                    "data": {
                        "application/vnd.dataresource+json": {
                            "data": [
                                {
                                    "ISBN": "9780140276041",
                                    "Rating": "5",
                                    "Title": "White Teeth"
                                }
                            ],
                            "schema": {
                                "fields": [
                                    {
                                        "name": "ISBN"
                                    },
                                    {
                                        "name": "Title"
                                    },
                                    {
                                        "name": "Rating"
                                    }
                                ]
                            }
                        },
                        "text/html": [
                            "<table>\n",
                            "<tr><th>ISBN</th><th>Title</th><th>Rating</th></tr>\n",
                            "<tr><td>9780140276041</td><td>White Teeth</td><td>5</td></tr>\n",
                            "</table>"
                        ]
                    },
                    "execution_count": 37,
                    "metadata": {},
                    "output_type": "execute_result"
                }
            ],
            "source": [
                "-- Retrieve books with ratings higher than the average rating of books published in the same year\n",
                "\n",
                "SELECT b.ISBN, b.Title, r.Rating\n",
                "FROM Reviews r\n",
                "JOIN Books b ON r.ISBN = b.ISBN\n",
                "WHERE PublicationYear = '2000' AND Rating > (\n",
                "    SELECT AVG(Rating)\n",
                "    FROM Reviews\n",
                "    WHERE PublicationYear = '2000'\n",
                ");\n"
            ]
        }
    ],
    "metadata": {
        "kernelspec": {
            "display_name": "SQL",
            "language": "sql",
            "name": "SQL"
        },
        "language_info": {
            "name": "sql",
            "version": ""
        }
    },
    "nbformat": 4,
    "nbformat_minor": 2
}
