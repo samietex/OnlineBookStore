{
    "metadata": {
        "kernelspec": {
            "name": "SQL",
            "display_name": "SQL",
            "language": "sql"
        },
        "language_info": {
            "name": "sql",
            "version": ""
        }
    },
    "nbformat_minor": 2,
    "nbformat": 4,
    "cells": [
        {
            "cell_type": "markdown",
            "source": [
                "## Online Bookstore Database Solution Notebook\r\n",
                "\r\n",
                "### Introduction\r\n",
                "Welcome to the Online Bookstore Database Solution Notebook! In this notebook I'll be exploring the design, implementation, and querying our online database using SQL Server. \r\n",
                "\r\n",
                "### Prerequisites\r\n",
                "In case you want to replicate this project, ensure that you have the following:\r\n",
                "\r\n",
                "**1. SQL Server Management Studio (SSMS):**\r\n",
                "\r\n",
                "* Download and install SSMS from Microsoft.\r\n",
                "\r\n",
                "**2. Sample Data:**\r\n",
                "\r\n",
                "* I will be using sample data for books, authors, customers, and orders. You can create your own or use the provided sample data files.\r\n",
                "\r\n",
                "### Notebook Sections\r\n",
                "\r\n",
                "**1. Database Schema and Constraints:**\r\n",
                "\r\n",
                "* We will define the tables, primary keys, foreign keys, and other constraints.\r\n",
                "* Create the necessary database objects using SQL scripts.\r\n",
                "\r\n",
                "**2. Sample Data Insertion:**\r\n",
                "\r\n",
                "* Populate the tables with sample data.\r\n",
                "* Execute SQL `INSERT INTO` statements to add records.\r\n",
                "\r\n",
                "**3. SQL Queries and Tasks:**\r\n",
                "\r\n",
                "* Perform various tasks using SQL queries:\r\n",
                "    * Update book prices.\r\n",
                "    * Retrieve books published in a specific year.\r\n",
                "    * Retrieve orders made by a particular customer.\r\n",
                "    * Calculate total amount spent by each customer.\r\n",
                "    * Find the highest-rated book.\r\n",
                "    * Retrieve authors who have written books in a specific genre.\r\n",
                "    * Identify customers who have given the most reviews.\r\n",
                "    * Calculate average rating of books by each author.\r\n",
                "    * Compare book prices with genre averages.\r\n",
                "    * Explore additional queries based on your interests.\r\n",
                "\r\n",
                "### Let's Get Started!\r\n",
                "\r\n",
                "_Note: This notebook assumes familiarity with SQL concepts. If you're new to SQL, consider exploring introductory SQL tutorials before exploring into this notebook._\r\n",
                "\r\n",
                "_Disclaimer: The provided notebook is a high-level overview. For detailed implementation, refer to the actual SQL scripts and database setup._"
            ],
            "metadata": {
                "azdata_cell_guid": "c61f54b2-dd18-481c-9b91-337b30d8eb3d"
            },
            "attachments": {}
        },
        {
            "cell_type": "code",
            "source": [
                "-- Create Database\r\n",
                "CREATE DATABASE AllAboutDataBookStore;"
            ],
            "metadata": {
                "azdata_cell_guid": "301c5ead-b265-4c7c-8f07-dbed4299671a",
                "language": "sql"
            },
            "outputs": [
                {
                    "output_type": "display_data",
                    "data": {
                        "text/html": "Commands completed successfully."
                    },
                    "metadata": {}
                },
                {
                    "output_type": "display_data",
                    "data": {
                        "text/html": "Total execution time: 00:00:00.183"
                    },
                    "metadata": {}
                }
            ],
            "execution_count": 1
        },
        {
            "cell_type": "code",
            "source": [
                "-- Use Database\r\n",
                "USE AllAboutDataBookStore;"
            ],
            "metadata": {
                "language": "sql",
                "azdata_cell_guid": "f82019e7-f241-4b31-b146-c7994e47bb77"
            },
            "outputs": [
                {
                    "output_type": "display_data",
                    "data": {
                        "text/html": "Commands completed successfully."
                    },
                    "metadata": {}
                },
                {
                    "output_type": "display_data",
                    "data": {
                        "text/html": "Total execution time: 00:00:00"
                    },
                    "metadata": {}
                }
            ],
            "execution_count": 3
        },
        {
            "cell_type": "code",
            "source": [
                "-- Create Authors table\r\n",
                "CREATE TABLE Authors (\r\n",
                "    AuthorID INT PRIMARY KEY,\r\n",
                "    Name NVARCHAR(100) NOT NULL,\r\n",
                "    Biography NVARCHAR(MAX)\r\n",
                ");\r\n",
                ""
            ],
            "metadata": {
                "language": "sql",
                "azdata_cell_guid": "4084ee4d-2c9c-4682-b36c-e8808e8481eb"
            },
            "outputs": [
                {
                    "output_type": "display_data",
                    "data": {
                        "text/html": "Commands completed successfully."
                    },
                    "metadata": {}
                },
                {
                    "output_type": "display_data",
                    "data": {
                        "text/html": "Total execution time: 00:00:00.019"
                    },
                    "metadata": {}
                }
            ],
            "execution_count": 3
        },
        {
            "cell_type": "code",
            "source": [
                "-- Create Books table\r\n",
                "CREATE TABLE Books (\r\n",
                "    ISBN VARCHAR(20) PRIMARY KEY,\r\n",
                "    Title NVARCHAR(100) NOT NULL,\r\n",
                "    PublicationYear INT NOT NULL,\r\n",
                "    Price DECIMAL(10, 2) NOT NULL,\r\n",
                "    Genre NVARCHAR(50) NOT NULL,\r\n",
                "    AuthorID INT,\r\n",
                "    CONSTRAINT FK_AuthorID FOREIGN KEY (AuthorID) REFERENCES Authors(AuthorID)\r\n",
                ");\r\n",
                ""
            ],
            "metadata": {
                "language": "sql",
                "azdata_cell_guid": "b01da3e5-cdf8-4a15-a75b-b881f5ffc982"
            },
            "outputs": [
                {
                    "output_type": "display_data",
                    "data": {
                        "text/html": "Commands completed successfully."
                    },
                    "metadata": {}
                },
                {
                    "output_type": "display_data",
                    "data": {
                        "text/html": "Total execution time: 00:00:00.020"
                    },
                    "metadata": {}
                }
            ],
            "execution_count": 4
        },
        {
            "cell_type": "code",
            "source": [
                "-- Create Customers table\r\n",
                "CREATE TABLE Customers (\r\n",
                "    CustomerID INT PRIMARY KEY,\r\n",
                "    Name NVARCHAR(100) NOT NULL,\r\n",
                "    Email NVARCHAR(100) NOT NULL,\r\n",
                "    Address NVARCHAR(MAX) NOT NULL\r\n",
                ");\r\n",
                ""
            ],
            "metadata": {
                "language": "sql",
                "azdata_cell_guid": "6ad4b694-10f3-439d-9f3a-65ad278d0a59"
            },
            "outputs": [
                {
                    "output_type": "display_data",
                    "data": {
                        "text/html": "Commands completed successfully."
                    },
                    "metadata": {}
                },
                {
                    "output_type": "display_data",
                    "data": {
                        "text/html": "Total execution time: 00:00:00.006"
                    },
                    "metadata": {}
                }
            ],
            "execution_count": 5
        },
        {
            "cell_type": "code",
            "source": [
                "-- Create Orders table\r\n",
                "CREATE TABLE Orders (\r\n",
                "    OrderID INT PRIMARY KEY,\r\n",
                "    CustomerID INT,\r\n",
                "    OrderDate DATETIME NOT NULL,\r\n",
                "    TotalPrice DECIMAL(10, 2) NOT NULL,\r\n",
                "    CONSTRAINT FK_CustomerID FOREIGN KEY (CustomerID) REFERENCES Customers(CustomerID)\r\n",
                ");\r\n",
                ""
            ],
            "metadata": {
                "language": "sql",
                "azdata_cell_guid": "347d4295-38f1-40ec-ab1c-18d06545ba5d"
            },
            "outputs": [
                {
                    "output_type": "display_data",
                    "data": {
                        "text/html": "Commands completed successfully."
                    },
                    "metadata": {}
                },
                {
                    "output_type": "display_data",
                    "data": {
                        "text/html": "Total execution time: 00:00:00.010"
                    },
                    "metadata": {}
                }
            ],
            "execution_count": 6
        },
        {
            "cell_type": "code",
            "source": [
                "-- Create Reviews table\r\n",
                "CREATE TABLE Reviews (\r\n",
                "    ReviewID INT PRIMARY KEY,\r\n",
                "    CustomerID INT,\r\n",
                "    ISBN VARCHAR(20),\r\n",
                "    Rating INT CHECK (Rating >= 1 AND Rating <= 5),\r\n",
                "    Comments NVARCHAR(MAX),\r\n",
                "    CONSTRAINT FK_CustomerID_Reviews FOREIGN KEY (CustomerID) REFERENCES Customers(CustomerID),\r\n",
                "    CONSTRAINT FK_ISBN FOREIGN KEY (ISBN) REFERENCES Books(ISBN)\r\n",
                ");"
            ],
            "metadata": {
                "language": "sql",
                "azdata_cell_guid": "7165f67f-30b5-4979-bec8-5da4b6d08771"
            },
            "outputs": [
                {
                    "output_type": "display_data",
                    "data": {
                        "text/html": "Commands completed successfully."
                    },
                    "metadata": {}
                },
                {
                    "output_type": "display_data",
                    "data": {
                        "text/html": "Total execution time: 00:00:00.006"
                    },
                    "metadata": {}
                }
            ],
            "execution_count": 7
        },
        {
            "cell_type": "code",
            "source": [
                "-- Insert sample data into Authors table\r\n",
                "INSERT INTO Authors (AuthorID, Name, Biography) VALUES\r\n",
                "(1, 'J.K. Rowling', 'British author known for the Harry Potter series'),\r\n",
                "(2, 'George R.R. Martin', 'American novelist famous for A Song of Ice and Fire'),\r\n",
                "(3, 'Agatha Christie', 'British mystery writer known for her detective novels'),\r\n",
                "(4, 'Stephen King', 'American author of horror, supernatural fiction, and suspense novels'),\r\n",
                "(5, 'Jane Austen', 'English novelist known for her romantic fiction'),\r\n",
                "(6, 'Gabriel García Márquez', 'Colombian novelist and Nobel laureate in literature'),\r\n",
                "(7, 'Haruki Murakami', 'Japanese author of surreal and philosophical fiction'),\r\n",
                "(8, 'Margaret Atwood', 'Canadian author known for dystopian fiction'),\r\n",
                "(9, 'Toni Morrison', 'American novelist and Nobel laureate in literature'),\r\n",
                "(10, 'Kazuo Ishiguro', 'British-Japanese author of literary fiction'),\r\n",
                "(11, 'Chimamanda Ngozi Adichie', 'Nigerian writer and feminist'),\r\n",
                "(12, 'Neil Gaiman', 'English author of fantasy and graphic novels'),\r\n",
                "(13, 'Octavia Butler', 'American science fiction writer known for her groundbreaking works'),\r\n",
                "(14, 'Isaac Asimov', 'Russian-American author and biochemist, a prolific writer of science fiction'),\r\n",
                "(15, 'Zadie Smith', 'British novelist and essayist with a unique literary voice'),\r\n",
                "(16, 'Philip K. Dick', 'American writer of mind-bending science fiction and dystopian tales'),\r\n",
                "(17, 'Jorge Luis Borges', 'Argentine writer, poet, and master of magical realism'),\r\n",
                "(18, 'Terry Pratchett', 'English author known for humorous fantasy novels'),\r\n",
                "(19, 'Ursula K. Le Guin', 'American writer of science fiction and fantasy'),\r\n",
                "(20, 'J.R.R. Tolkien', 'British author, philologist, and creator of Middle-earth'),\r\n",
                "(21, 'Ray Bradbury', 'American author of dystopian and speculative fiction'),\r\n",
                "(22, 'Roald Dahl', 'British novelist and children''s book writer'),\r\n",
                "(23, 'Harper Lee', 'American author known for \"To Kill a Mockingbird\"'),\r\n",
                "(24, 'Ernest Hemingway', 'American novelist and Nobel laureate in literature'),\r\n",
                "(25, 'Virginia Woolf', 'English writer and modernist'),\r\n",
                "(26, 'F. Scott Fitzgerald', 'American novelist famous for \"The Great Gatsby\"'),\r\n",
                "(27, 'Leo Tolstoy', 'Russian writer and philosopher'),\r\n",
                "(28, 'Maya Angelou', 'American poet, memoirist, and civil rights activist'),\r\n",
                "(29, 'Khaled Hosseini', 'Afghan-American novelist known for \"The Kite Runner\"'),\r\n",
                "(30, 'Jhumpa Lahiri', 'Indian-American author of poignant short stories and novels'),\r\n",
                "(31, 'Salman Rushdie', 'British-Indian novelist and magical realist'),\r\n",
                "(32, 'Hermann Hesse', 'German-Swiss author of philosophical and spiritual works'),\r\n",
                "(33, 'Emily Dickinson', 'American poet known for her enigmatic and introspective verses'),\r\n",
                "(34, 'Mark Twain', 'American writer and humorist famous for \"The Adventures of Huckleberry Finn\"'),\r\n",
                "(35, 'Edgar Allan Poe', 'American writer of dark and macabre tales'),\r\n",
                "(36, 'Gabriel García Márquez', 'Colombian novelist and Nobel laureate in literature'),\r\n",
                "(37, 'Louisa May Alcott', 'American author of \"Little Women\" and other beloved novels'),\r\n",
                "(38, 'Octavio Paz', 'Mexican poet and essayist, Nobel laureate in literature'),\r\n",
                "(39, 'Doris Lessing', 'British-Zimbabwean novelist and short story writer'),\r\n",
                "(40, 'Italo Calvino', 'Italian writer known for his imaginative fiction'),\r\n",
                "(41, 'Alice Walker', 'American novelist, poet, and activist'),\r\n",
                "(42, 'Kurt Vonnegut', 'American author of satirical and science fiction novels'),\r\n",
                "(43, 'Terry Eagleton', 'British literary theorist and critic'),\r\n",
                "(44, 'Octavia E. Butler', 'American science fiction writer and MacArthur Fellow'),\r\n",
                "(45, 'Kurt Vonnegut', 'American author of satirical and science fiction novels'),\r\n",
                "(46, 'Zora Neale Hurston', 'American author and anthropologist'),\r\n",
                "(47, 'Albert Camus', 'French philosopher and author of existentialist works'),\r\n",
                "(48, 'Toni Morrison', 'American novelist and Nobel laureate in literature'),\r\n",
                "(49, 'John Steinbeck', 'American author known for \"The Grapes of Wrath\"'),\r\n",
                "(50, 'Virginia Woolf', 'English writer and modernist');"
            ],
            "metadata": {
                "language": "sql",
                "azdata_cell_guid": "1fcceef0-2a63-4f2a-8e94-93718ca783b2"
            },
            "outputs": [
                {
                    "output_type": "display_data",
                    "data": {
                        "text/html": "(50 rows affected)"
                    },
                    "metadata": {}
                },
                {
                    "output_type": "display_data",
                    "data": {
                        "text/html": "Total execution time: 00:00:00.009"
                    },
                    "metadata": {}
                }
            ],
            "execution_count": 4
        },
        {
            "cell_type": "code",
            "source": [
                "-- Insert sample data into Books table\r\n",
                "INSERT INTO Books (ISBN, Title, PublicationYear, Price, Genre, AuthorID) VALUES\r\n",
                "('9780439554930', 'Harry Potter and the Sorcerer''s Stone', 1997, 20.00, 'Fantasy', 1),\r\n",
                "('9780553801477', 'A Game of Thrones', 1996, 25.00, 'Fantasy', 2),\r\n",
                "('9780061120084', 'Murder on the Orient Express', 1934, 15.00, 'Mystery', 3),\r\n",
                "('9780451167317', 'The Shining', 1977, 18.00, 'Horror', 4),\r\n",
                "('9780141439563', 'Pride and Prejudice', 1813, 12.00, 'Romance', 5),\r\n",
                "('9780307474278', 'One Hundred Years of Solitude', 1967, 22.00, 'Magical Realism', 6),\r\n",
                "('9780099448792', 'Norwegian Wood', 1987, 16.00, 'Literary Fiction', 7),\r\n",
                "('9780385504201', 'The Handmaid''s Tale', 1985, 21.00, 'Dystopian', 8),\r\n",
                "('9781400032716', 'Beloved', 1987, 19.00, 'Literary Fiction', 9),\r\n",
                "('9780571225395', 'Never Let Me Go', 2005, 17.00, 'Literary Fiction', 10),\r\n",
                "('9780007121776', 'Half of a Yellow Sun', 2006, 14.00, 'Historical Fiction', 11),\r\n",
                "('9780062255655', 'American Gods', 2001, 20.00, 'Fantasy', 12),\r\n",
                "('9780446675536', 'Kindred', 1979, 16.00, 'Science Fiction', 13),\r\n",
                "('9780553293357', 'Foundation', 1951, 14.00, 'Science Fiction', 14),\r\n",
                "('9780140276041', 'White Teeth', 2000, 15.00, 'Literary Fiction', 15),\r\n",
                "('9780547572482', 'Do Androids Dream of Electric Sheep?', 1968, 18.00, 'Science Fiction', 16),\r\n",
                "('9780141189685', 'Ficciones', 1944, 13.00, 'Magical Realism', 17),\r\n",
                "('9780062224682', 'Good Omens', 1990, 20.00, 'Fantasy', 18),\r\n",
                "('9780441013593', 'The Left Hand of Darkness', 1969, 17.00, 'Science Fiction', 19),\r\n",
                "('9780618346257', 'The Lord of the Rings', 1954, 30.00, 'Fantasy', 20),\r\n",
                "('9780553103540', 'The Stand', 1978, 18.00, 'Horror', 4),\r\n",
                "('9780679601393', 'The Catcher in the Rye', 1951, 15.00, 'Literary Fiction', 33),\r\n",
                "('9780743273565', 'The Picture of Dorian Gray', 1890, 11.00, 'Gothic Fiction', 34),\r\n",
                "('9780452284234', '1984', 1949, 14.00, 'Dystopian', 31),\r\n",
                "('9780440180296', 'Brave New World', 1932, 13.00, 'Dystopian', 31),\r\n",
                "('9780142437209', 'Moby-Dick', 1851, 16.00, 'Adventure', 35),\r\n",
                "('9780345339683', 'Frankenstein', 1818, 12.00, 'Gothic Horror', 36),\r\n",
                "('9780141439471', 'Wuthering Heights', 1847, 14.00, 'Gothic Fiction', 37),\r\n",
                "('9780143039433', 'The Brothers Karamazov', 1880, 17.00, 'Philosophical Fiction', 27),\r\n",
                "('9780451526342', 'Crime and Punishment', 1866, 15.00, 'Psychological Fiction', 27),\r\n",
                "('9780141439587', 'Jane Eyre', 1847, 14.00, 'Gothic Fiction', 38),\r\n",
                "('9781402713393', 'Great Expectations', 1861, 15.00, 'Literary Fiction', 39),\r\n",
                "('9780143039952', 'Anna Karenina', 1877, 16.00, 'Realist Fiction', 27),\r\n",
                "('9780451524997', 'Pride and Prejudice', 1813, 12.00, 'Romance', 5),\r\n",
                "('9780143107632', 'To Kill a Mockingbird', 1960, 17.00, 'Southern Gothic', 23),\r\n",
                "('9780143105447', 'The Great Gatsby', 1925, 16.00, 'Tragedy', 26),\r\n",
                "('9780451527011', 'The Adventures of Huckleberry Finn', 1884, 15.00, 'Adventure', 34),\r\n",
                "('9780451525260', 'The Scarlet Letter', 1850, 13.00, 'Romance', 40),\r\n",
                "('9780679735779', 'Their Eyes Were Watching God', 1937, 14.00, 'Literary Fiction', 46),\r\n",
                "('9780743273566', 'The Sun Also Rises', 1926, 15.00, 'Literary Fiction', 24),\r\n",
                "('9781400033423', 'The Road', 2006, 19.00, 'Post-apocalyptic Fiction', 24),\r\n",
                "('9780141439846', 'The Bell Jar', 1963, 16.00, 'Semi-autobiographical Fiction', 41),\r\n",
                "('9780061120053', 'The Catcher in the Rye', 1951, 14.00, 'Coming-of-age Fiction', 33),\r\n",
                "('9780385324463', 'The Chronicles of Narnia', 1950, 18.00, 'Fantasy', 20),\r\n",
                "('9780743273567', 'The Grapes of Wrath', 1939, 17.00, 'Social Realism', 49),\r\n",
                "('9780385265704', 'One Flew Over the Cuckoo''s Nest', 1962, 16.00, 'Psychological Fiction', 42),\r\n",
                "('9780571313266', 'Sula', 1973, 15.00, 'African-American Literature', 48),\r\n",
                "('9780679720201', 'Mrs. Dalloway', 1925, 16.00, 'Modernist Literature', 25),\r\n",
                "('9780062315007', 'Beloved', 1987, 18.00, 'Postmodern Literature', 9),\r\n",
                "('9780062256904', 'The Outsiders', 1967, 14.00, 'Young Adult Fiction', 50);"
            ],
            "metadata": {
                "language": "sql",
                "azdata_cell_guid": "2b374e4c-4a80-4f71-af85-1fc1f0655f4e"
            },
            "outputs": [
                {
                    "output_type": "display_data",
                    "data": {
                        "text/html": "(50 rows affected)"
                    },
                    "metadata": {}
                },
                {
                    "output_type": "display_data",
                    "data": {
                        "text/html": "Total execution time: 00:00:00.011"
                    },
                    "metadata": {}
                }
            ],
            "execution_count": 6
        },
        {
            "cell_type": "code",
            "source": [
                "-- Insert sample data into Customers table\r\n",
                "INSERT INTO Customers (CustomerID, Name, Email, Address) VALUES\r\n",
                "(1, 'John Doe', 'johndoe@example.com', '123 Main Street, Anytown, USA'),\r\n",
                "(2, 'Jane Smith', 'janesmith@example.com', '456 Elm Street, Othertown, USA'),\r\n",
                "(3, 'Alice Johnson', 'alice@example.com', '789 Oak Avenue, Another Town, USA'),\r\n",
                "(4, 'Bob Williams', 'bob@example.com', '101 Pine Road, Yet Another Town, USA'),\r\n",
                "(5, 'Emily Brown', 'emily@example.com', '222 Maple Drive, Last Town, USA'),\r\n",
                "(6, 'Michael Davis', 'michael@example.com', '333 Cedar Lane, Final Town, USA'),\r\n",
                "(7, 'Sarah Wilson', 'sarah@example.com', '444 Birch Boulevard, End Town, USA'),\r\n",
                "(8, 'David Garcia', 'david@example.com', '555 Walnut Way, Ultimate Town, USA'),\r\n",
                "(9, 'Jessica Martinez', 'jessica@example.com', '666 Spruce Street, Supreme Town, USA'),\r\n",
                "(10, 'Christopher Rodriguez', 'chris@example.com', '777 Oak Street, Paramount Town, USA'),\r\n",
                "(11, 'Amanda Hernandez', 'amanda@example.com', '888 Elm Avenue, Primary Town, USA'),\r\n",
                "(12, 'James Lopez', 'james@example.com', '999 Pine Lane, Capital Town, USA'),\r\n",
                "(13, 'Jennifer Moore', 'jennifer@example.com', '111 Cedar Street, Supreme Town, USA'),\r\n",
                "(14, 'Matthew Clark', 'matthew@example.com', '222 Birch Way, Paramount Town, USA'),\r\n",
                "(15, 'Ashley Lewis', 'ashley@example.com', '333 Maple Avenue, Ultimate Town, USA'),\r\n",
                "(16, 'Daniel Lee', 'daniel@example.com', '444 Pine Drive, Top Town, USA'),\r\n",
                "(17, 'Kimberly Walker', 'kimberly@example.com', '555 Oak Boulevard, Final Town, USA'),\r\n",
                "(18, 'Joseph Hall', 'joseph@example.com', '666 Elm Lane, Primary Town, USA'),\r\n",
                "(19, 'Melissa Allen', 'melissa@example.com', '777 Spruce Street, End Town, USA'),\r\n",
                "(20, 'Andrew Young', 'andrew@example.com', '888 Walnut Avenue, Supreme Town, USA'),\r\n",
                "(21, 'Jessica Hernandez', 'jessicah@example.com', '999 Cedar Way, Paramount Town, USA'),\r\n",
                "(22, 'Christopher King', 'chris@example.com', '101 Pine Street, Ultimate Town, USA'),\r\n",
                "(23, 'Amanda Wright', 'amanda@example.com', '111 Birch Drive, Top Town, USA'),\r\n",
                "(24, 'James Scott', 'james@example.com', '121 Maple Lane, Final Town, USA'),\r\n",
                "(25, 'Megan Green', 'megan@example.com', '131 Oak Street, Primary Town, USA'),\r\n",
                "(26, 'Ryan Adams', 'ryan@example.com', '141 Elm Avenue, End Town, USA'),\r\n",
                "(27, 'Nicole Baker', 'nicole@example.com', '151 Spruce Way, Supreme Town, USA'),\r\n",
                "(28, 'Justin Garcia', 'justin@example.com', '161 Walnut Street, Paramount Town, USA'),\r\n",
                "(29, 'Samantha Young', 'samantha@example.com', '171 Cedar Drive, Ultimate Town, USA'),\r\n",
                "(30, 'Robert White', 'robert@example.com', '181 Birch Lane, Top Town, USA'),\r\n",
                "(31, 'Emily Johnson', 'emilyj@example.com', '191 Maple Street, Final Town, USA'),\r\n",
                "(32, 'Tyler Moore', 'tyler@example.com', '201 Oak Way, Primary Town, USA'),\r\n",
                "(33, 'Rachel Hill', 'rachel@example.com', '211 Elm Avenue, End Town, USA'),\r\n",
                "(34, 'Brandon Cook', 'brandon@example.com', '221 Spruce Lane, Supreme Town, USA'),\r\n",
                "(35, 'Rebecca Turner', 'rebecca@example.com', '231 Walnut Boulevard, Paramount Town, USA'),\r\n",
                "(36, 'Jordan Parker', 'jordan@example.com', '241 Cedar Street, Ultimate Town, USA'),\r\n",
                "(37, 'Hannah Cooper', 'hannah@example.com', '251 Birch Way, Top Town, USA'),\r\n",
                "(38, 'David Gonzales', 'davidg@example.com', '261 Maple Avenue, Final Town, USA'),\r\n",
                "(39, 'Kaitlyn Stewart', 'kaitlyn@example.com', '271 Oak Drive, Primary Town, USA'),\r\n",
                "(40, 'Erica Carter', 'erica@example.com', '281 Elm Street, End Town, USA'),\r\n",
                "(41, 'Kevin Diaz', 'kevin@example.com', '291 Spruce Avenue, Supreme Town, USA'),\r\n",
                "(42, 'Maria Reed', 'maria@example.com', '301 Walnut Drive, Paramount Town, USA'),\r\n",
                "(43, 'Joshua Martinez', 'joshua@example.com', '311 Cedar Lane, Ultimate Town, USA'),\r\n",
                "(44, 'Lauren James', 'lauren@example.com', '321 Birch Street, Top Town, USA'),\r\n",
                "(45, 'Cody Morris', 'cody@example.com', '331 Maple Way, Final Town, USA'),\r\n",
                "(46, 'Alexis Adams', 'alexis@example.com', '341 Oak Lane, Primary Town, USA'),\r\n",
                "(47, 'Michaela Wright', 'michaelaw@example.com', '351 Elm Street, End Town, USA'),\r\n",
                "(48, 'Dylan Rodriguez', 'dylan@example.com', '361 Spruce Avenue, Supreme Town, USA'),\r\n",
                "(49, 'Kelsey Bell', 'kelsey@example.com', '371 Walnut Way, Paramount Town, USA'),\r\n",
                "(50, 'Isaac Rivera', 'isaac@example.com', '381 Cedar Street, Ultimate Town, USA');\r\n",
                ""
            ],
            "metadata": {
                "language": "sql",
                "azdata_cell_guid": "dc0eb0c9-4aba-46ba-9369-5496d5da403c"
            },
            "outputs": [
                {
                    "output_type": "display_data",
                    "data": {
                        "text/html": "(50 rows affected)"
                    },
                    "metadata": {}
                },
                {
                    "output_type": "display_data",
                    "data": {
                        "text/html": "Total execution time: 00:00:00.007"
                    },
                    "metadata": {}
                }
            ],
            "execution_count": 7
        },
        {
            "cell_type": "code",
            "source": [
                "-- Insert sample data into Orders table\r\n",
                "INSERT INTO Orders (OrderID, CustomerID, OrderDate, TotalPrice) VALUES\r\n",
                "(1, 1, '2024-02-22', 45.00),\r\n",
                "(2, 2, '2024-02-22', 25.00),\r\n",
                ""
            ],
            "metadata": {
                "language": "sql",
                "azdata_cell_guid": "71415a73-c055-4cbd-8fe0-874859f718ff"
            },
            "outputs": [],
            "execution_count": null
        }
    ]
}